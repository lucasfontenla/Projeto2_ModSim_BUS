{
 "cells": [
  {
   "cell_type": "markdown",
   "metadata": {},
   "source": [
    "**Projeto 2 | Modelagem e Simulação do Mundo Físico** 1B Engenharia - Lucas Fontenla & Victor Hugo Leal"
   ]
  },
  {
   "cell_type": "markdown",
   "metadata": {},
   "source": [
    "Em dias chuvosos (nublados), os passageiros que utilizam transporte público fecham as janelas para evitar a entrada de água no veículo, porém, conforme o horário do rush se aproxima, mais pessoas entram no ônibus e a temperatura interna do ônibus aumenta muito. \n",
    "\n",
    "1. Como o número de pessoas afeta a temperatura interna do ônibus?\n",
    "2. Para que uma determinada empresa aumente o conforto dos passageiros, qual ar condicionado ela deverá instalar no ônibus?\n",
    "\n",
    "**O modelo:**\n",
    "\n",
    "<img src=\"Modelo.jpg\">\n",
    "\n",
    "Fluxos de calor \n",
    "1. Qpp - Emitido pelas pessoas de pé\n",
    "2. Qps - Emitido pelas pessoas sentadas\n",
    "3. Qac - Absorvido pelo ar condicionado\n",
    "4. Qp - Que sai pela porta\n",
    "5. Qj - Que sai pela janela\n",
    "6. Ql - Que sai pela lataria\n",
    "\n",
    "Variáveis Exógenas\n",
    "1. np - Número de pessoas de pé\n",
    "2. ns - Número de pessoas sentadas\n",
    "3. t - Tempo de abertura da porta\n",
    "4. Te - Temperatura externa\n",
    "\n",
    "**Equação do Modelo:**\n",
    "\n",
    "<img src=\"Equação Diferencial.png\", width=\"330\", height=\"56\">\n"
   ]
  },
  {
   "cell_type": "markdown",
   "metadata": {},
   "source": [
    "**Perda de calor por CONDUÇÃO**\n",
    "\n",
    "O ar interno fornece calor para o vidro e para a lataria. O fluxo de calor no interior do material se dá por condução\n",
    "\n",
    "Resistência térmica de condução:\n",
    "\n",
    "<img src=\"Rcond.png\", width=\"122\", height=\"45\">\n",
    "\n",
    "1. L: Espessura do material [m]\n",
    "2. h: Coeficiente de condutividade térmica [W/mK]\n",
    "3. As: Área superficial [m^2]\n",
    "\n",
    "Fluxo de calor:\n",
    "\n",
    "<img src=\"Qcond.png\", width=\"112\", height=\"40\">\n",
    "\n",
    "1. DeltaT - (Temp. Interna - Temp. Externa)\n"
   ]
  },
  {
   "cell_type": "markdown",
   "metadata": {},
   "source": [
    "**Perda de calor por CONVECÇÃO**\n",
    "\n",
    "O vidro, a lataria e quando a porta se abre, o ar interno, trocam calor com o meio externo\n",
    "\n",
    "Resistência térmica de convecção:\n",
    "\n",
    "<img src=\"Rconv.png\", width=\"122\", height=\"45\">\n",
    "\n",
    "1. h: Coeficiente de condutividade térmica [W/mK]\n",
    "2. As: Área superficial [m^2]\n",
    "\n",
    "Fluxo de calor:\n",
    "\n",
    "<img src=\"Qconv.png\", width=\"112\", height=\"40\">\n",
    "\n",
    "1. DeltaT - (Temp. Interna - Temp. Externa)"
   ]
  },
  {
   "cell_type": "markdown",
   "metadata": {},
   "source": [
    "**EQUAÇÕES FINAIS**\n",
    "<img src=\"Qj.png\">\n",
    "<img src=\"Ql.png\">\n",
    "<img src=\"Qp.png\">"
   ]
  },
  {
   "cell_type": "code",
   "execution_count": 80,
   "metadata": {
    "collapsed": true
   },
   "outputs": [],
   "source": [
    "\"\"\"Função que calcula Qj\n",
    "nj (número de janelas) = 20\n",
    "hj (altura da janela) = 1.2\n",
    "lj (largura da janela) = 0.9 \n",
    "hp (altura do para-brisa) = 2.6\n",
    "lp (largura do para-brisa) = 1.7\n",
    "hvidro = 0.8\n",
    "har = 0.023\n",
    "Lvidro (média) = 3mm = 3*10**-3m\"\"\"\n",
    "\n",
    "def Rcond_vidros(Area_vidro, hvidro, Lvidro):\n",
    "    return Lvidro/(hvidro*Area_vidro)\n",
    "\n",
    "def Rconv_vidros(Area_vidro, hvidro, har):\n",
    "    return 1/(har*Area_vidro)\n",
    "\n",
    "def Qvidro(Tinterna, Texterna, hvidro, Lvidro, har, Area_vidro):\n",
    "    return (Tinterna - Texterna)/(Rcond_vidros(Area_vidro, hvidro, Lvidro ) + Rconv_vidros(Area_vidro, hvidro, har))"
   ]
  },
  {
   "cell_type": "code",
   "execution_count": 81,
   "metadata": {
    "collapsed": true
   },
   "outputs": [],
   "source": [
    "\"\"\"Função que calcula Ql\n",
    "ll (largura da lataria) = 2.6\n",
    "hl (altura da lataria) = 3.5\n",
    "cl (comprimento da lataria) = 18.6\n",
    "haço = 52\n",
    "Laço = 3mm = 3*10**-3m\"\"\"\n",
    "\n",
    "def Rcond_lataria(haco, Laco, Area_lataria):\n",
    "    return Laco/(haco*Area_lataria)\n",
    "\n",
    "def Rconv_lataria(har, Area_lataria):\n",
    "    return 1/(har*Area_lataria)\n",
    "\n",
    "def QLataria(Tinterna, Texterna, haco, Laco, har):\n",
    "    return (Tinterna - Texterna)/(Rcond_lataria(Area_lataria, haco, Laco) + Rconv_lataria(har, Area_lataria))"
   ]
  },
  {
   "cell_type": "code",
   "execution_count": 82,
   "metadata": {
    "collapsed": true
   },
   "outputs": [],
   "source": [
    "\"\"\"Função que calcula Qp\n",
    "np (número de portas) = 3\n",
    "ap (altura da porta) = 1.9\n",
    "Lp (largura da porta) = 1.1\"\"\"\n",
    "\n",
    "#def AreaTotal_porta(numeor_porta, altura_porta, largura_porta):\n",
    " #   return numero_porta*altura_porta*largura_porta\n",
    "\n",
    "def Rconv_porta(har, Area_porta):\n",
    "    return 1/(har*Area_porta)\n",
    "\n",
    "def Qporta(Tinterna, Texterna, Area_porta, har):\n",
    "    return (Tinterna - Texterna)/(Rconv_porta(Area_porta, har))"
   ]
  },
  {
   "cell_type": "code",
   "execution_count": 83,
   "metadata": {
    "collapsed": true
   },
   "outputs": [],
   "source": [
    "\"\"\"Função que calcula Q_pessoas_pe\n",
    "numero_pe = 2 (inicial)\n",
    "Qppp (por pessoa de pé) = 167W\"\"\"\n",
    "\n",
    "def Q_pessoas_pe(numero_pe, Qpp):\n",
    "    return numero_pe*Qppp"
   ]
  },
  {
   "cell_type": "code",
   "execution_count": 84,
   "metadata": {
    "collapsed": true
   },
   "outputs": [],
   "source": [
    "\"\"\"Função que calcula Qps\n",
    "numero_ps = 0 (inicial)\n",
    "Qpps (por pessoa sentada) = 115W\"\"\"\n",
    "\n",
    "def Qps(numero_ps, Qpps):\n",
    "    return numero_ps*Qpps"
   ]
  },
  {
   "cell_type": "code",
   "execution_count": 85,
   "metadata": {
    "collapsed": false
   },
   "outputs": [],
   "source": [
    "\"\"\"Definição dos Parâmetros\"\"\"\n",
    "\n",
    "hvidro = 0.8 #condutividade térmica do vidro\n",
    "har = 0.023 #condutividade térmica do ar\n",
    "haço = 52 #condutividade térmica do aço\n",
    "\n",
    "Lvidro = 3*10**-3 #espessura do aço\n",
    "Laço = 3*10**-3 #espessura da lataria\n",
    "\n",
    "Area_lataria = 206.56 #área d lataria em contato com o ar\n",
    "Area_janela = 21.6 #área da janela em contato com o ar\n",
    "Area_parabrisa = 4.42 #área do para-brisa\n",
    "Area_porta = 6.27 #área do ar interno em contato com o ar externo quando a porta aberta\n",
    "\n",
    "\n",
    "Area_vidro = Area_janela + Area_parabrisa + Area_porta #A área em vidro inicial conta como se a porta fosse de vidro\n"
   ]
  },
  {
   "cell_type": "code",
   "execution_count": null,
   "metadata": {
    "collapsed": true
   },
   "outputs": [],
   "source": []
  }
 ],
 "metadata": {
  "kernelspec": {
   "display_name": "Python 3",
   "language": "python",
   "name": "python3"
  },
  "language_info": {
   "codemirror_mode": {
    "name": "ipython",
    "version": 3
   },
   "file_extension": ".py",
   "mimetype": "text/x-python",
   "name": "python",
   "nbconvert_exporter": "python",
   "pygments_lexer": "ipython3",
   "version": "3.5.1"
  }
 },
 "nbformat": 4,
 "nbformat_minor": 0
}
