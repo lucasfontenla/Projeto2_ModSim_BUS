{
 "cells": [
  {
   "cell_type": "markdown",
   "metadata": {},
   "source": [
    "**Projeto 2 | Modelagem e Simulação do Mundo Físico** 1B Engenharia - Lucas Fontenla & Victor Hugo Leal"
   ]
  },
  {
   "cell_type": "markdown",
   "metadata": {},
   "source": [
    "Em dias chuvosos (nublados), os passageiros que utilizam transporte público fecham as janelas para evitar a entrada de água no veículo, porém, conforme o horário do rush se aproxima, mais pessoas entram no ônibus e a temperatura interna do ônibus aumenta muito. \n",
    "\n",
    "1. Como o número de pessoas afeta a temperatura interna do ônibus?\n",
    "2. Para que uma determinada empresa aumente o conforto dos passageiros, qual ar condicionado ela deverá instalar no ônibus?\n",
    "\n",
    "**O modelo:**\n",
    "\n",
    "<img src=\"Modelo.jpg\">\n",
    "\n",
    "Fluxos de calor \n",
    "1. Qpp - Emitido pelas pessoas de pé\n",
    "2. Qps - Emitido pelas pessoas sentadas\n",
    "3. Qac - Absorvido pelo ar condicionado\n",
    "4. Qp - Que sai pela porta\n",
    "5. Qj - Que sai pela janela\n",
    "6. Ql - Que sai pela lataria\n",
    "\n",
    "Variáveis Exógenas\n",
    "1. np - Número de pessoas de pé\n",
    "2. ns - Número de pessoas sentadas\n",
    "3. t - Tempo de abertura da porta\n",
    "4. Te - Temperatura externa\n",
    "\n",
    "**Equação do Modelo:**\n",
    "\n",
    "<img src=\"Equação Diferencial.png\", width=\"330\", height=\"56\">\n"
   ]
  },
  {
   "cell_type": "markdown",
   "metadata": {},
   "source": [
    "**Perda de calor por CONDUÇÃO**\n",
    "\n",
    "O ar interno fornece calor para o vidro e para a lataria. O fluxo de calor no interior do material se dá por condução\n",
    "\n",
    "Resistência térmica de condução:\n",
    "\n",
    "<img src=\"Rcond.png\", width=\"122\", height=\"45\">\n",
    "\n",
    "1. L: Espessura do material [m]\n",
    "2. h: Coeficiente de condutividade térmica [W/mK]\n",
    "3. As: Área superficial [m^2]\n",
    "\n",
    "Fluxo de calor:\n",
    "\n",
    "<img src=\"Qcond.png\", width=\"112\", height=\"40\">\n",
    "\n",
    "1. DeltaT - (Temp. Interna - Temp. Externa)\n"
   ]
  },
  {
   "cell_type": "markdown",
   "metadata": {},
   "source": [
    "**Perda de calor por CONVECÇÃO**\n",
    "\n",
    "O vidro, a lataria e quando a porta se abre, o ar interno, trocam calor com o meio externo\n",
    "\n",
    "Resistência térmica de convecção:\n",
    "\n",
    "<img src=\"Rconv.png\", width=\"122\", height=\"45\">\n",
    "\n",
    "1. h: Coeficiente de condutividade térmica [W/mK]\n",
    "2. As: Área superficial [m^2]\n",
    "\n",
    "Fluxo de calor:\n",
    "\n",
    "<img src=\"Qconv.png\", width=\"112\", height=\"40\">\n",
    "\n",
    "1. DeltaT - (Temp. Interna - Temp. Externa)"
   ]
  },
  {
   "cell_type": "markdown",
   "metadata": {},
   "source": [
    "**EQUAÇÕES FINAIS**\n",
    "<img src=\"Qj.png\", width=\"275\">\n",
    "<img src=\"Ql.png\", width=\"250\">\n",
    "<img src=\"Qp.png\", width=\"190\">"
   ]
  },
  {
   "cell_type": "code",
   "execution_count": 1,
   "metadata": {
    "collapsed": true
   },
   "outputs": [],
   "source": [
    "\"\"\"Função que calcula Qj\n",
    "nj (número de janelas) = 20\n",
    "hj (altura da janela) = 1.2\n",
    "lj (largura da janela) = 0.9 \n",
    "hp (altura do para-brisa) = 2.6\n",
    "lp (largura do para-brisa) = 1.7\n",
    "hvidro = 0.8\n",
    "har = 0.023\n",
    "Lvidro (média) = 3mm = 3*10**-3m\"\"\"\n",
    "\n",
    "def Rcond_vidros(Area_vidro, hvidro, Lvidro):\n",
    "    return Lvidro/(hvidro*Area_vidro)\n",
    "\n",
    "def Rconv_vidros(Area_vidro, hvidro, har):\n",
    "    return 1/(har*Area_vidro)\n",
    "\n",
    "def Qvidro(Tinterna, Texterna, hvidro, Lvidro, har, Area_vidro):\n",
    "    #return (Tinterna - Texterna)/(Rcond_vidros(Area_vidro, hvidro, Lvidro ) + Rconv_vidros(Area_vidro, hvidro, har))\n",
    "    return 5*Tinterna"
   ]
  },
  {
   "cell_type": "code",
   "execution_count": 2,
   "metadata": {
    "collapsed": true
   },
   "outputs": [],
   "source": [
    "\"\"\"Função que calcula Ql\n",
    "ll (largura da lataria) = 2.6\n",
    "hl (altura da lataria) = 3.5\n",
    "cl (comprimento da lataria) = 18.6\n",
    "haço = 52\n",
    "Laço = 3mm = 3*10**-3m\"\"\"\n",
    "\n",
    "def Rcond_lataria(haco, Laco, Area_lataria):\n",
    "    return Laco/(haco*Area_lataria)\n",
    "\n",
    "def Rconv_lataria(har, Area_lataria):\n",
    "    return 1/(har*Area_lataria)\n",
    "\n",
    "def QLataria(Tinterna, Texterna, haco, Laco, har):\n",
    "    return (Tinterna - Texterna)/(Rcond_lataria(Area_lataria, haco, Laco) + Rconv_lataria(har, Area_lataria))"
   ]
  },
  {
   "cell_type": "code",
   "execution_count": 3,
   "metadata": {
    "collapsed": true
   },
   "outputs": [],
   "source": [
    "\"\"\"Função que calcula Qp\n",
    "np (número de portas) = 3\n",
    "ap (altura da porta) = 1.9\n",
    "Lp (largura da porta) = 1.1\"\"\"\n",
    "\n",
    "def Rconv_porta(har, Area_porta):\n",
    "    return 1/(har*Area_porta)\n",
    "\n",
    "def Qporta(Tinterna, Texterna, Area_porta, har):\n",
    "    return (Tinterna - Texterna)/(Rconv_porta(Area_porta, har))"
   ]
  },
  {
   "cell_type": "code",
   "execution_count": 4,
   "metadata": {
    "collapsed": true
   },
   "outputs": [],
   "source": [
    "\"\"\"Função que calcula Q_pessoas_pe\n",
    "numero_pe = 2 (inicial)\n",
    "Qppp (por pessoa de pé) = 167W\"\"\"\n",
    "\n",
    "def Q_pessoas_pe(numero_pe, Qpp):\n",
    "    return numero_pe*Qpp"
   ]
  },
  {
   "cell_type": "code",
   "execution_count": 5,
   "metadata": {
    "collapsed": true
   },
   "outputs": [],
   "source": [
    "\"\"\"Função que calcula Qps\n",
    "numero_ps = 0 (inicial)\n",
    "Qpps (por pessoa sentada) = 115W\"\"\"\n",
    "\n",
    "def Q_pessoas_sentadas(numero_ps, Qpps):\n",
    "    return numero_ps*Qpps"
   ]
  },
  {
   "cell_type": "code",
   "execution_count": 6,
   "metadata": {
    "collapsed": false
   },
   "outputs": [],
   "source": [
    "\"\"\"Definição dos Parâmetros\"\"\"\n",
    "\n",
    "hvidro = 0.8 #condutividade térmica do vidro\n",
    "har = 0.023 #condutividade térmica do ar\n",
    "haco = 52 #condutividade térmica do aço\n",
    "\n",
    "Lvidro = 0.003 #espessura do aço\n",
    "Laco = 0.003 #espessura da lataria\n",
    "\n",
    "Area_lataria = 206.56 #área d lataria em contato com o ar\n",
    "Area_janela = 21.6 #área da janela em contato com o ar\n",
    "Area_parabrisa = 4.42 #área do para-brisa\n",
    "Area_porta = 6.27 #área do ar interno em contato com o ar externo quando a porta aberta\n",
    "\n",
    "Mar = 203.1\n",
    "car = 1004.832\n",
    "\n",
    "numero_ps = 170\n",
    "Area_pele = 1.8\n",
    "Tcorporal = (36+273)\n",
    "\n",
    "Area_vidro_mov = Area_janela + Area_parabrisa + Area_porta #A área em vidro inicial conta como se a porta fosse de vidro\n",
    "Area_vidro_stop = Area_janela + Area_parabrisa\n",
    "\n",
    "Rcond_lataria = Laco/(haco*Area_lataria)\n",
    "Rconv_lataria = 1/(har*Area_lataria)\n",
    "\n",
    "Rcond_janelas = Lvidro/(hvidro*Area_vidro_mov)\n",
    "Rconv_janelas = 1/(har*Area_vidro_mov)\n",
    "\n",
    "Rconv_pessoas = 1/(har*Area_pele)"
   ]
  },
  {
   "cell_type": "code",
   "execution_count": 7,
   "metadata": {
    "collapsed": false
   },
   "outputs": [],
   "source": [
    "def CalculaT_mov(Y, lista_tempo, text):\n",
    "    dTdt = (numero_ps*((Tcorporal - Y)/Rconv_pessoas) - ((Y - text)/(Rcond_lataria + Rconv_lataria))\\\n",
    "            - ((Y - text)/(Rcond_janelas + Rconv_janelas))) / (Mar*car)\n",
    "    return dTdt\n",
    "\n",
    "def CalculaT_stop(T0, lista_tempo):\n",
    "    dTdt = (Q_pessoas_sentadas(numero_ps, Qpps)+Q_pessoas_pe(numero_pe, Qpp)\\\n",
    "            -Qvidro(T0, Texterna, hvidro, Lvidro, har, Area_vidro_stop)-QLataria(T0, Texterna, haco, Laco, har)\\\n",
    "            -Qporta(T0, Texterna, Area_porta, har))/(Mar*car)\n",
    "    return dTdt"
   ]
  },
  {
   "cell_type": "code",
   "execution_count": 9,
   "metadata": {
    "collapsed": false
   },
   "outputs": [
    {
     "name": "stdout",
     "output_type": "stream",
     "text": [
      "[[ 293.        ]\n",
      " [ 293.00557181]\n",
      " [ 293.01114016]\n",
      " [ 293.01670506]\n",
      " [ 293.0222665 ]\n",
      " [ 293.0278245 ]\n",
      " [ 293.03337906]\n",
      " [ 293.03893016]\n",
      " [ 293.04447783]\n",
      " [ 293.05002206]\n",
      " [ 293.05556284]\n",
      " [ 293.06110019]\n",
      " [ 293.06663411]\n",
      " [ 293.0721646 ]\n",
      " [ 293.07769166]\n",
      " [ 293.08321529]\n",
      " [ 293.0887355 ]\n",
      " [ 293.09425229]\n",
      " [ 293.09976565]\n",
      " [ 293.1052756 ]\n",
      " [ 293.11078213]\n",
      " [ 293.11628524]\n",
      " [ 293.12178494]\n",
      " [ 293.12728124]\n",
      " [ 293.13277412]\n",
      " [ 293.1382636 ]\n",
      " [ 293.14374967]\n",
      " [ 293.14923235]\n",
      " [ 293.15471162]\n",
      " [ 293.1601875 ]\n",
      " [ 293.16565998]\n",
      " [ 293.17112907]\n",
      " [ 293.17659477]\n",
      " [ 293.18205707]\n",
      " [ 293.18751599]\n",
      " [ 293.19297153]\n",
      " [ 293.19842368]\n",
      " [ 293.20387246]\n",
      " [ 293.20931785]\n",
      " [ 293.21475987]\n",
      " [ 293.22019851]\n",
      " [ 293.22563378]\n",
      " [ 293.23106568]\n",
      " [ 293.23649422]\n",
      " [ 293.24191938]\n",
      " [ 293.24734119]\n",
      " [ 293.25275963]\n",
      " [ 293.25817471]\n",
      " [ 293.26358643]\n",
      " [ 293.2689948 ]\n",
      " [ 293.27439982]\n",
      " [ 293.27980148]\n",
      " [ 293.28519979]\n",
      " [ 293.29059476]\n",
      " [ 293.29598638]\n",
      " [ 293.30137466]\n",
      " [ 293.3067596 ]\n",
      " [ 293.31214119]\n",
      " [ 293.31751946]\n",
      " [ 293.32289438]\n",
      " [ 293.32826597]\n",
      " [ 293.33363424]\n",
      " [ 293.33899917]\n",
      " [ 293.34436078]\n",
      " [ 293.34971906]\n",
      " [ 293.35507402]\n",
      " [ 293.36042565]\n",
      " [ 293.36577398]\n",
      " [ 293.37111898]\n",
      " [ 293.37646067]\n",
      " [ 293.38179905]\n",
      " [ 293.38713411]\n",
      " [ 293.39246587]\n",
      " [ 293.39779432]\n",
      " [ 293.40311947]\n",
      " [ 293.40844132]\n",
      " [ 293.41375987]\n",
      " [ 293.41907512]\n",
      " [ 293.42438707]\n",
      " [ 293.42969573]\n",
      " [ 293.4350011 ]\n",
      " [ 293.44030318]\n",
      " [ 293.44560197]\n",
      " [ 293.45089747]\n",
      " [ 293.45618969]\n",
      " [ 293.46147863]\n",
      " [ 293.46676429]\n",
      " [ 293.47204668]\n",
      " [ 293.47732578]\n",
      " [ 293.48260162]\n",
      " [ 293.48787418]\n",
      " [ 293.49314347]\n",
      " [ 293.4984095 ]\n",
      " [ 293.50367226]\n",
      " [ 293.50893176]\n",
      " [ 293.514188  ]\n",
      " [ 293.51944097]\n",
      " [ 293.5246907 ]\n",
      " [ 293.52993716]\n",
      " [ 293.53518037]]\n"
     ]
    },
    {
     "data": {
      "image/png": "[encoded data removed]",
      "text/plain": [
       "<matplotlib.figure.Figure at 0x147ad7b1e80>"
      ]
     },
     "metadata": {},
     "output_type": "display_data"
    }
   ],
   "source": [
    "\"\"\"Verificação da função: cálculo de dTdt (em mov.) para um intervalo de Xs\"\"\"\n",
    "from numpy import linspace\n",
    "from scipy.integrate import odeint\n",
    "import matplotlib.pyplot as plt\n",
    "%matplotlib inline\n",
    "\n",
    "lista_tempo = linspace(0, 1000, 100)\n",
    "\n",
    "T0 = Texterna = (20 + 273) #20°C para Kelvin\n",
    "\n",
    "T = odeint(CalculaT_mov, T0, lista_tempo, args=(Texterna,))\n",
    "\n",
    "print(T)\n",
    "\n",
    "plt.plot(lista_tempo, T[:,0])\n",
    "plt.xlabel(\"Tempo (S)\")\n",
    "plt.ylabel(\"Temperatura (K)\")\n",
    "plt.show()"
   ]
  },
  {
   "cell_type": "code",
   "execution_count": null,
   "metadata": {
    "collapsed": true
   },
   "outputs": [],
   "source": []
  }
 ],
 "metadata": {
  "kernelspec": {
   "display_name": "Python 3",
   "language": "python",
   "name": "python3"
  },
  "language_info": {
   "codemirror_mode": {
    "name": "ipython",
    "version": 3
   },
   "file_extension": ".py",
   "mimetype": "text/x-python",
   "name": "python",
   "nbconvert_exporter": "python",
   "pygments_lexer": "ipython3",
   "version": "3.5.1"
  }
 },
 "nbformat": 4,
 "nbformat_minor": 0
}
